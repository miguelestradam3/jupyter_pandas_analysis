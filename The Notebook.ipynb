{
 "cells": [
  {
   "cell_type": "markdown",
   "id": "6aa1b08c",
   "metadata": {},
   "source": [
    "# WELCOME TO THE NOTEBOOK\n",
    "---"
   ]
  },
  {
   "cell_type": "markdown",
   "id": "c6c1cd41",
   "metadata": {},
   "source": [
    "Importing Modules"
   ]
  },
  {
   "cell_type": "code",
   "execution_count": 1,
   "id": "724e1cac",
   "metadata": {},
   "outputs": [],
   "source": [
    "import pandas as pd "
   ]
  },
  {
   "cell_type": "markdown",
   "id": "83a2df24",
   "metadata": {},
   "source": [
    "Loading the data"
   ]
  },
  {
   "cell_type": "code",
   "execution_count": 3,
   "id": "ac943b8a",
   "metadata": {},
   "outputs": [
    {
     "data": {
      "text/html": [
       "<div>\n",
       "<style scoped>\n",
       "    .dataframe tbody tr th:only-of-type {\n",
       "        vertical-align: middle;\n",
       "    }\n",
       "\n",
       "    .dataframe tbody tr th {\n",
       "        vertical-align: top;\n",
       "    }\n",
       "\n",
       "    .dataframe thead th {\n",
       "        text-align: right;\n",
       "    }\n",
       "</style>\n",
       "<table border=\"1\" class=\"dataframe\">\n",
       "  <thead>\n",
       "    <tr style=\"text-align: right;\">\n",
       "      <th></th>\n",
       "      <th>color</th>\n",
       "      <th>director_name</th>\n",
       "      <th>num_critic_for_reviews</th>\n",
       "      <th>duration</th>\n",
       "      <th>gross</th>\n",
       "      <th>genres</th>\n",
       "      <th>star_name</th>\n",
       "      <th>movie_title</th>\n",
       "      <th>movie_imdb_link</th>\n",
       "      <th>language</th>\n",
       "      <th>country</th>\n",
       "      <th>budget</th>\n",
       "      <th>title_year</th>\n",
       "      <th>imdb_score</th>\n",
       "    </tr>\n",
       "  </thead>\n",
       "  <tbody>\n",
       "    <tr>\n",
       "      <th>0</th>\n",
       "      <td>Color</td>\n",
       "      <td>James Cameron</td>\n",
       "      <td>723.0</td>\n",
       "      <td>178.0</td>\n",
       "      <td>760505847.0</td>\n",
       "      <td>Action|Adventure|Fantasy|Sci-Fi</td>\n",
       "      <td>CCH Pounder</td>\n",
       "      <td>Avatar</td>\n",
       "      <td>http://www.imdb.com/title/tt0499549/?ref_=fn_t...</td>\n",
       "      <td>English</td>\n",
       "      <td>USA</td>\n",
       "      <td>237000000.0</td>\n",
       "      <td>2009.0</td>\n",
       "      <td>7.9</td>\n",
       "    </tr>\n",
       "    <tr>\n",
       "      <th>1</th>\n",
       "      <td>Color</td>\n",
       "      <td>Gore Verbinski</td>\n",
       "      <td>302.0</td>\n",
       "      <td>169.0</td>\n",
       "      <td>309404152.0</td>\n",
       "      <td>Action|Adventure|Fantasy</td>\n",
       "      <td>Johnny Depp</td>\n",
       "      <td>Pirates of the Caribbean: At World's End</td>\n",
       "      <td>http://www.imdb.com/title/tt0449088/?ref_=fn_t...</td>\n",
       "      <td>English</td>\n",
       "      <td>USA</td>\n",
       "      <td>300000000.0</td>\n",
       "      <td>2007.0</td>\n",
       "      <td>7.1</td>\n",
       "    </tr>\n",
       "    <tr>\n",
       "      <th>2</th>\n",
       "      <td>Color</td>\n",
       "      <td>Sam Mendes</td>\n",
       "      <td>602.0</td>\n",
       "      <td>148.0</td>\n",
       "      <td>200074175.0</td>\n",
       "      <td>Action|Adventure|Thriller</td>\n",
       "      <td>Christoph Waltz</td>\n",
       "      <td>Spectre</td>\n",
       "      <td>http://www.imdb.com/title/tt2379713/?ref_=fn_t...</td>\n",
       "      <td>English</td>\n",
       "      <td>UK</td>\n",
       "      <td>245000000.0</td>\n",
       "      <td>2015.0</td>\n",
       "      <td>6.8</td>\n",
       "    </tr>\n",
       "  </tbody>\n",
       "</table>\n",
       "</div>"
      ],
      "text/plain": [
       "   color   director_name  num_critic_for_reviews  duration        gross  \\\n",
       "0  Color   James Cameron                   723.0     178.0  760505847.0   \n",
       "1  Color  Gore Verbinski                   302.0     169.0  309404152.0   \n",
       "2  Color      Sam Mendes                   602.0     148.0  200074175.0   \n",
       "\n",
       "                            genres        star_name  \\\n",
       "0  Action|Adventure|Fantasy|Sci-Fi      CCH Pounder   \n",
       "1         Action|Adventure|Fantasy      Johnny Depp   \n",
       "2        Action|Adventure|Thriller  Christoph Waltz   \n",
       "\n",
       "                                movie_title  \\\n",
       "0                                    Avatar   \n",
       "1  Pirates of the Caribbean: At World's End   \n",
       "2                                   Spectre   \n",
       "\n",
       "                                     movie_imdb_link language country  \\\n",
       "0  http://www.imdb.com/title/tt0499549/?ref_=fn_t...  English     USA   \n",
       "1  http://www.imdb.com/title/tt0449088/?ref_=fn_t...  English     USA   \n",
       "2  http://www.imdb.com/title/tt2379713/?ref_=fn_t...  English      UK   \n",
       "\n",
       "        budget  title_year  imdb_score  \n",
       "0  237000000.0      2009.0         7.9  \n",
       "1  300000000.0      2007.0         7.1  \n",
       "2  245000000.0      2015.0         6.8  "
      ]
     },
     "execution_count": 3,
     "metadata": {},
     "output_type": "execute_result"
    }
   ],
   "source": [
    "json_data = pd.read_json('movies_dataset.json')\n",
    "json_data.head(3)"
   ]
  },
  {
   "cell_type": "markdown",
   "id": "3def3e5e",
   "metadata": {},
   "source": [
    "Check the dataframe shape (#rows and #columns)"
   ]
  },
  {
   "cell_type": "code",
   "execution_count": 4,
   "id": "4cdd648b",
   "metadata": {},
   "outputs": [
    {
     "data": {
      "text/plain": [
       "(5043, 14)"
      ]
     },
     "execution_count": 4,
     "metadata": {},
     "output_type": "execute_result"
    }
   ],
   "source": [
    "json_data.shape"
   ]
  },
  {
   "cell_type": "markdown",
   "id": "a826028a",
   "metadata": {},
   "source": [
    "Let's check the data types of the columns"
   ]
  },
  {
   "cell_type": "code",
   "execution_count": 5,
   "id": "a312e2ad",
   "metadata": {},
   "outputs": [
    {
     "data": {
      "text/plain": [
       "color                      object\n",
       "director_name              object\n",
       "num_critic_for_reviews    float64\n",
       "duration                  float64\n",
       "gross                     float64\n",
       "genres                     object\n",
       "star_name                  object\n",
       "movie_title                object\n",
       "movie_imdb_link            object\n",
       "language                   object\n",
       "country                    object\n",
       "budget                    float64\n",
       "title_year                float64\n",
       "imdb_score                float64\n",
       "dtype: object"
      ]
     },
     "execution_count": 5,
     "metadata": {},
     "output_type": "execute_result"
    }
   ],
   "source": [
    "json_data.dtypes"
   ]
  },
  {
   "cell_type": "markdown",
   "id": "8b0c0912",
   "metadata": {},
   "source": [
    "Column Selection"
   ]
  },
  {
   "cell_type": "code",
   "execution_count": 8,
   "id": "57e0fd68",
   "metadata": {},
   "outputs": [
    {
     "data": {
      "text/plain": [
       "0       Color\n",
       "1       Color\n",
       "2       Color\n",
       "3       Color\n",
       "4         NaN\n",
       "        ...  \n",
       "5038    Color\n",
       "5039    Color\n",
       "5040    Color\n",
       "5041    Color\n",
       "5042    Color\n",
       "Name: color, Length: 5043, dtype: object"
      ]
     },
     "execution_count": 8,
     "metadata": {},
     "output_type": "execute_result"
    }
   ],
   "source": [
    "json_data[\"color\"]"
   ]
  },
  {
   "cell_type": "markdown",
   "id": "147a91b3",
   "metadata": {},
   "source": [
    "---"
   ]
  },
  {
   "cell_type": "markdown",
   "id": "7a4888bb",
   "metadata": {},
   "source": [
    "## Data Preparation\n",
    "Remove some columns:    \n",
    "   \n",
    "   - `movie_imdb_link`\n",
    "   - `num_critic_for_reviews`\n",
    "   - `genre`"
   ]
  },
  {
   "cell_type": "code",
   "execution_count": 11,
   "id": "957ef771",
   "metadata": {},
   "outputs": [],
   "source": [
    "json_data.drop(columns=['movie_imdb_link', 'num_critic_for_reviews', 'genres'], inplace=True)"
   ]
  },
  {
   "cell_type": "markdown",
   "id": "8511aeb2",
   "metadata": {},
   "source": [
    "Let's check the shape again"
   ]
  },
  {
   "cell_type": "code",
   "execution_count": 13,
   "id": "fc57f3a1",
   "metadata": {},
   "outputs": [
    {
     "data": {
      "text/plain": [
       "(5043, 11)"
      ]
     },
     "execution_count": 13,
     "metadata": {},
     "output_type": "execute_result"
    }
   ],
   "source": [
    "json_data.shape"
   ]
  },
  {
   "cell_type": "markdown",
   "id": "ac630773",
   "metadata": {},
   "source": [
    "Let's convert the dtype of `title_year` column to integer"
   ]
  },
  {
   "cell_type": "code",
   "execution_count": 18,
   "id": "5b07f9a3",
   "metadata": {},
   "outputs": [],
   "source": [
    "json_data.title_year = json_data.title_year.astype(\"Int64\")"
   ]
  },
  {
   "cell_type": "markdown",
   "id": "14942cce",
   "metadata": {},
   "source": [
    "Let's check the dataframe again"
   ]
  },
  {
   "cell_type": "code",
   "execution_count": 19,
   "id": "5cc1ab82",
   "metadata": {},
   "outputs": [
    {
     "data": {
      "text/html": [
       "<div>\n",
       "<style scoped>\n",
       "    .dataframe tbody tr th:only-of-type {\n",
       "        vertical-align: middle;\n",
       "    }\n",
       "\n",
       "    .dataframe tbody tr th {\n",
       "        vertical-align: top;\n",
       "    }\n",
       "\n",
       "    .dataframe thead th {\n",
       "        text-align: right;\n",
       "    }\n",
       "</style>\n",
       "<table border=\"1\" class=\"dataframe\">\n",
       "  <thead>\n",
       "    <tr style=\"text-align: right;\">\n",
       "      <th></th>\n",
       "      <th>color</th>\n",
       "      <th>director_name</th>\n",
       "      <th>duration</th>\n",
       "      <th>gross</th>\n",
       "      <th>star_name</th>\n",
       "      <th>movie_title</th>\n",
       "      <th>language</th>\n",
       "      <th>country</th>\n",
       "      <th>budget</th>\n",
       "      <th>title_year</th>\n",
       "      <th>imdb_score</th>\n",
       "    </tr>\n",
       "  </thead>\n",
       "  <tbody>\n",
       "    <tr>\n",
       "      <th>0</th>\n",
       "      <td>Color</td>\n",
       "      <td>James Cameron</td>\n",
       "      <td>178.0</td>\n",
       "      <td>760505847.0</td>\n",
       "      <td>CCH Pounder</td>\n",
       "      <td>Avatar</td>\n",
       "      <td>English</td>\n",
       "      <td>USA</td>\n",
       "      <td>237000000.0</td>\n",
       "      <td>2009</td>\n",
       "      <td>7.9</td>\n",
       "    </tr>\n",
       "    <tr>\n",
       "      <th>1</th>\n",
       "      <td>Color</td>\n",
       "      <td>Gore Verbinski</td>\n",
       "      <td>169.0</td>\n",
       "      <td>309404152.0</td>\n",
       "      <td>Johnny Depp</td>\n",
       "      <td>Pirates of the Caribbean: At World's End</td>\n",
       "      <td>English</td>\n",
       "      <td>USA</td>\n",
       "      <td>300000000.0</td>\n",
       "      <td>2007</td>\n",
       "      <td>7.1</td>\n",
       "    </tr>\n",
       "    <tr>\n",
       "      <th>2</th>\n",
       "      <td>Color</td>\n",
       "      <td>Sam Mendes</td>\n",
       "      <td>148.0</td>\n",
       "      <td>200074175.0</td>\n",
       "      <td>Christoph Waltz</td>\n",
       "      <td>Spectre</td>\n",
       "      <td>English</td>\n",
       "      <td>UK</td>\n",
       "      <td>245000000.0</td>\n",
       "      <td>2015</td>\n",
       "      <td>6.8</td>\n",
       "    </tr>\n",
       "  </tbody>\n",
       "</table>\n",
       "</div>"
      ],
      "text/plain": [
       "   color   director_name  duration        gross        star_name  \\\n",
       "0  Color   James Cameron     178.0  760505847.0      CCH Pounder   \n",
       "1  Color  Gore Verbinski     169.0  309404152.0      Johnny Depp   \n",
       "2  Color      Sam Mendes     148.0  200074175.0  Christoph Waltz   \n",
       "\n",
       "                                movie_title language country       budget  \\\n",
       "0                                    Avatar  English     USA  237000000.0   \n",
       "1  Pirates of the Caribbean: At World's End  English     USA  300000000.0   \n",
       "2                                   Spectre  English      UK  245000000.0   \n",
       "\n",
       "   title_year  imdb_score  \n",
       "0        2009         7.9  \n",
       "1        2007         7.1  \n",
       "2        2015         6.8  "
      ]
     },
     "execution_count": 19,
     "metadata": {},
     "output_type": "execute_result"
    }
   ],
   "source": [
    "json_data.head(3)"
   ]
  },
  {
   "cell_type": "markdown",
   "id": "b0179a75",
   "metadata": {},
   "source": [
    "Renaming some columns: \n",
    "- changing `gross` to `movie_income`"
   ]
  },
  {
   "cell_type": "code",
   "execution_count": 20,
   "id": "0b1251d7",
   "metadata": {},
   "outputs": [
    {
     "data": {
      "text/html": [
       "<div>\n",
       "<style scoped>\n",
       "    .dataframe tbody tr th:only-of-type {\n",
       "        vertical-align: middle;\n",
       "    }\n",
       "\n",
       "    .dataframe tbody tr th {\n",
       "        vertical-align: top;\n",
       "    }\n",
       "\n",
       "    .dataframe thead th {\n",
       "        text-align: right;\n",
       "    }\n",
       "</style>\n",
       "<table border=\"1\" class=\"dataframe\">\n",
       "  <thead>\n",
       "    <tr style=\"text-align: right;\">\n",
       "      <th></th>\n",
       "      <th>color</th>\n",
       "      <th>director_name</th>\n",
       "      <th>duration</th>\n",
       "      <th>movie_income</th>\n",
       "      <th>star_name</th>\n",
       "      <th>movie_title</th>\n",
       "      <th>Language</th>\n",
       "      <th>country</th>\n",
       "      <th>budget</th>\n",
       "      <th>title_year</th>\n",
       "      <th>imdb_score</th>\n",
       "    </tr>\n",
       "  </thead>\n",
       "  <tbody>\n",
       "    <tr>\n",
       "      <th>0</th>\n",
       "      <td>Color</td>\n",
       "      <td>James Cameron</td>\n",
       "      <td>178.0</td>\n",
       "      <td>760505847.0</td>\n",
       "      <td>CCH Pounder</td>\n",
       "      <td>Avatar</td>\n",
       "      <td>English</td>\n",
       "      <td>USA</td>\n",
       "      <td>237000000.0</td>\n",
       "      <td>2009</td>\n",
       "      <td>7.9</td>\n",
       "    </tr>\n",
       "    <tr>\n",
       "      <th>1</th>\n",
       "      <td>Color</td>\n",
       "      <td>Gore Verbinski</td>\n",
       "      <td>169.0</td>\n",
       "      <td>309404152.0</td>\n",
       "      <td>Johnny Depp</td>\n",
       "      <td>Pirates of the Caribbean: At World's End</td>\n",
       "      <td>English</td>\n",
       "      <td>USA</td>\n",
       "      <td>300000000.0</td>\n",
       "      <td>2007</td>\n",
       "      <td>7.1</td>\n",
       "    </tr>\n",
       "  </tbody>\n",
       "</table>\n",
       "</div>"
      ],
      "text/plain": [
       "   color   director_name  duration  movie_income    star_name  \\\n",
       "0  Color   James Cameron     178.0   760505847.0  CCH Pounder   \n",
       "1  Color  Gore Verbinski     169.0   309404152.0  Johnny Depp   \n",
       "\n",
       "                                movie_title Language country       budget  \\\n",
       "0                                    Avatar  English     USA  237000000.0   \n",
       "1  Pirates of the Caribbean: At World's End  English     USA  300000000.0   \n",
       "\n",
       "   title_year  imdb_score  \n",
       "0        2009         7.9  \n",
       "1        2007         7.1  "
      ]
     },
     "execution_count": 20,
     "metadata": {},
     "output_type": "execute_result"
    }
   ],
   "source": [
    "rename_dict  = {\"gross\": \"movie_income\", \"language\":\"Language\"}\n",
    "json_data.rename(columns=rename_dict, inplace=True)\n",
    "json_data.head(2)"
   ]
  },
  {
   "cell_type": "markdown",
   "id": "4878bdf7",
   "metadata": {},
   "source": [
    "Exercise: Rename the `budget` column to `movie_budget`"
   ]
  },
  {
   "cell_type": "code",
   "execution_count": 21,
   "id": "fedc0c98",
   "metadata": {},
   "outputs": [
    {
     "data": {
      "text/html": [
       "<div>\n",
       "<style scoped>\n",
       "    .dataframe tbody tr th:only-of-type {\n",
       "        vertical-align: middle;\n",
       "    }\n",
       "\n",
       "    .dataframe tbody tr th {\n",
       "        vertical-align: top;\n",
       "    }\n",
       "\n",
       "    .dataframe thead th {\n",
       "        text-align: right;\n",
       "    }\n",
       "</style>\n",
       "<table border=\"1\" class=\"dataframe\">\n",
       "  <thead>\n",
       "    <tr style=\"text-align: right;\">\n",
       "      <th></th>\n",
       "      <th>color</th>\n",
       "      <th>director_name</th>\n",
       "      <th>duration</th>\n",
       "      <th>movie_income</th>\n",
       "      <th>star_name</th>\n",
       "      <th>movie_title</th>\n",
       "      <th>Language</th>\n",
       "      <th>country</th>\n",
       "      <th>movie_budget</th>\n",
       "      <th>title_year</th>\n",
       "      <th>imdb_score</th>\n",
       "    </tr>\n",
       "  </thead>\n",
       "  <tbody>\n",
       "    <tr>\n",
       "      <th>0</th>\n",
       "      <td>Color</td>\n",
       "      <td>James Cameron</td>\n",
       "      <td>178.0</td>\n",
       "      <td>760505847.0</td>\n",
       "      <td>CCH Pounder</td>\n",
       "      <td>Avatar</td>\n",
       "      <td>English</td>\n",
       "      <td>USA</td>\n",
       "      <td>237000000.0</td>\n",
       "      <td>2009</td>\n",
       "      <td>7.9</td>\n",
       "    </tr>\n",
       "    <tr>\n",
       "      <th>1</th>\n",
       "      <td>Color</td>\n",
       "      <td>Gore Verbinski</td>\n",
       "      <td>169.0</td>\n",
       "      <td>309404152.0</td>\n",
       "      <td>Johnny Depp</td>\n",
       "      <td>Pirates of the Caribbean: At World's End</td>\n",
       "      <td>English</td>\n",
       "      <td>USA</td>\n",
       "      <td>300000000.0</td>\n",
       "      <td>2007</td>\n",
       "      <td>7.1</td>\n",
       "    </tr>\n",
       "  </tbody>\n",
       "</table>\n",
       "</div>"
      ],
      "text/plain": [
       "   color   director_name  duration  movie_income    star_name  \\\n",
       "0  Color   James Cameron     178.0   760505847.0  CCH Pounder   \n",
       "1  Color  Gore Verbinski     169.0   309404152.0  Johnny Depp   \n",
       "\n",
       "                                movie_title Language country  movie_budget  \\\n",
       "0                                    Avatar  English     USA   237000000.0   \n",
       "1  Pirates of the Caribbean: At World's End  English     USA   300000000.0   \n",
       "\n",
       "   title_year  imdb_score  \n",
       "0        2009         7.9  \n",
       "1        2007         7.1  "
      ]
     },
     "execution_count": 21,
     "metadata": {},
     "output_type": "execute_result"
    }
   ],
   "source": [
    "rename_dict  = {\"budget\": \"movie_budget\"}\n",
    "json_data.rename(columns=rename_dict, inplace=True)\n",
    "json_data.head(2)"
   ]
  },
  {
   "cell_type": "markdown",
   "id": "0c66b460",
   "metadata": {},
   "source": [
    "---\n",
    "### Data Analysis \n",
    "\n",
    "\n",
    "Let's checkout the distribution of `duration` column using a histogram.\n"
   ]
  },
  {
   "cell_type": "code",
   "execution_count": 22,
   "id": "05e40217",
   "metadata": {},
   "outputs": [
    {
     "data": {
      "text/html": [
       "<div>\n",
       "<style scoped>\n",
       "    .dataframe tbody tr th:only-of-type {\n",
       "        vertical-align: middle;\n",
       "    }\n",
       "\n",
       "    .dataframe tbody tr th {\n",
       "        vertical-align: top;\n",
       "    }\n",
       "\n",
       "    .dataframe thead th {\n",
       "        text-align: right;\n",
       "    }\n",
       "</style>\n",
       "<table border=\"1\" class=\"dataframe\">\n",
       "  <thead>\n",
       "    <tr style=\"text-align: right;\">\n",
       "      <th></th>\n",
       "      <th>color</th>\n",
       "      <th>director_name</th>\n",
       "      <th>duration</th>\n",
       "      <th>movie_income</th>\n",
       "      <th>star_name</th>\n",
       "      <th>movie_title</th>\n",
       "      <th>Language</th>\n",
       "      <th>country</th>\n",
       "      <th>movie_budget</th>\n",
       "      <th>title_year</th>\n",
       "      <th>imdb_score</th>\n",
       "    </tr>\n",
       "  </thead>\n",
       "  <tbody>\n",
       "    <tr>\n",
       "      <th>0</th>\n",
       "      <td>Color</td>\n",
       "      <td>James Cameron</td>\n",
       "      <td>178.0</td>\n",
       "      <td>760505847.0</td>\n",
       "      <td>CCH Pounder</td>\n",
       "      <td>Avatar</td>\n",
       "      <td>English</td>\n",
       "      <td>USA</td>\n",
       "      <td>237000000.0</td>\n",
       "      <td>2009</td>\n",
       "      <td>7.9</td>\n",
       "    </tr>\n",
       "    <tr>\n",
       "      <th>1</th>\n",
       "      <td>Color</td>\n",
       "      <td>Gore Verbinski</td>\n",
       "      <td>169.0</td>\n",
       "      <td>309404152.0</td>\n",
       "      <td>Johnny Depp</td>\n",
       "      <td>Pirates of the Caribbean: At World's End</td>\n",
       "      <td>English</td>\n",
       "      <td>USA</td>\n",
       "      <td>300000000.0</td>\n",
       "      <td>2007</td>\n",
       "      <td>7.1</td>\n",
       "    </tr>\n",
       "    <tr>\n",
       "      <th>2</th>\n",
       "      <td>Color</td>\n",
       "      <td>Sam Mendes</td>\n",
       "      <td>148.0</td>\n",
       "      <td>200074175.0</td>\n",
       "      <td>Christoph Waltz</td>\n",
       "      <td>Spectre</td>\n",
       "      <td>English</td>\n",
       "      <td>UK</td>\n",
       "      <td>245000000.0</td>\n",
       "      <td>2015</td>\n",
       "      <td>6.8</td>\n",
       "    </tr>\n",
       "  </tbody>\n",
       "</table>\n",
       "</div>"
      ],
      "text/plain": [
       "   color   director_name  duration  movie_income        star_name  \\\n",
       "0  Color   James Cameron     178.0   760505847.0      CCH Pounder   \n",
       "1  Color  Gore Verbinski     169.0   309404152.0      Johnny Depp   \n",
       "2  Color      Sam Mendes     148.0   200074175.0  Christoph Waltz   \n",
       "\n",
       "                                movie_title Language country  movie_budget  \\\n",
       "0                                    Avatar  English     USA   237000000.0   \n",
       "1  Pirates of the Caribbean: At World's End  English     USA   300000000.0   \n",
       "2                                   Spectre  English      UK   245000000.0   \n",
       "\n",
       "   title_year  imdb_score  \n",
       "0        2009         7.9  \n",
       "1        2007         7.1  \n",
       "2        2015         6.8  "
      ]
     },
     "execution_count": 22,
     "metadata": {},
     "output_type": "execute_result"
    }
   ],
   "source": [
    "json_data.head(3)"
   ]
  },
  {
   "cell_type": "code",
   "execution_count": 31,
   "id": "9ebb3c1a",
   "metadata": {},
   "outputs": [
    {
     "data": {
      "text/plain": [
       "Text(0.5, 1.0, 'Movie Duration Histogram')"
      ]
     },
     "execution_count": 31,
     "metadata": {},
     "output_type": "execute_result"
    },
    {
     "data": {
      "image/png": "[encoded data removed]",
      "text/plain": [
       "<Figure size 800x600 with 1 Axes>"
      ]
     },
     "metadata": {},
     "output_type": "display_data"
    }
   ],
   "source": [
    "ax = json_data.duration.hist(bins=20, figsize=(8,6))\n",
    "ax.set_xlabel(\"Movie Duration\")\n",
    "ax.set_ylabel(\"Count\")\n",
    "ax.set_title(\"Movie Duration Histogram\")"
   ]
  },
  {
   "cell_type": "markdown",
   "id": "40962db2",
   "metadata": {},
   "source": [
    "Exercise: Create a hitogram to see the distribution of `imdb_score` column"
   ]
  },
  {
   "cell_type": "code",
   "execution_count": 32,
   "id": "8ca4b4c3",
   "metadata": {},
   "outputs": [
    {
     "data": {
      "text/plain": [
       "Text(0, 0.5, 'Count')"
      ]
     },
     "execution_count": 32,
     "metadata": {},
     "output_type": "execute_result"
    },
    {
     "data": {
      "image/png": "[encoded data removed]",
      "text/plain": [
       "<Figure size 1000x800 with 1 Axes>"
      ]
     },
     "metadata": {},
     "output_type": "display_data"
    }
   ],
   "source": [
    "bar = json_data.imdb_score.hist(grid=False, figsize=(10,8), bins=25)\n",
    "bar.set_title(\"Movies scores histogram\")\n",
    "bar.set_xlabel(\"Scores\")\n",
    "bar.set_ylabel(\"Count\")"
   ]
  },
  {
   "cell_type": "markdown",
   "id": "19b8d5f3",
   "metadata": {},
   "source": [
    "Let's check how many movies have the `imdb_score` less than `4`."
   ]
  },
  {
   "cell_type": "code",
   "execution_count": 35,
   "id": "132d4d05",
   "metadata": {},
   "outputs": [
    {
     "data": {
      "text/html": [
       "<div>\n",
       "<style scoped>\n",
       "    .dataframe tbody tr th:only-of-type {\n",
       "        vertical-align: middle;\n",
       "    }\n",
       "\n",
       "    .dataframe tbody tr th {\n",
       "        vertical-align: top;\n",
       "    }\n",
       "\n",
       "    .dataframe thead th {\n",
       "        text-align: right;\n",
       "    }\n",
       "</style>\n",
       "<table border=\"1\" class=\"dataframe\">\n",
       "  <thead>\n",
       "    <tr style=\"text-align: right;\">\n",
       "      <th></th>\n",
       "      <th>color</th>\n",
       "      <th>director_name</th>\n",
       "      <th>duration</th>\n",
       "      <th>movie_income</th>\n",
       "      <th>star_name</th>\n",
       "      <th>movie_title</th>\n",
       "      <th>Language</th>\n",
       "      <th>country</th>\n",
       "      <th>movie_budget</th>\n",
       "      <th>title_year</th>\n",
       "      <th>imdb_score</th>\n",
       "    </tr>\n",
       "  </thead>\n",
       "  <tbody>\n",
       "    <tr>\n",
       "      <th>217</th>\n",
       "      <td>Color</td>\n",
       "      <td>Joel Schumacher</td>\n",
       "      <td>125.0</td>\n",
       "      <td>107285004.0</td>\n",
       "      <td>Michael Gough</td>\n",
       "      <td>Batman &amp; Robin</td>\n",
       "      <td>English</td>\n",
       "      <td>USA</td>\n",
       "      <td>125000000.0</td>\n",
       "      <td>1997</td>\n",
       "      <td>3.7</td>\n",
       "    </tr>\n",
       "    <tr>\n",
       "      <th>267</th>\n",
       "      <td>Color</td>\n",
       "      <td>Jan de Bont</td>\n",
       "      <td>121.0</td>\n",
       "      <td>48068396.0</td>\n",
       "      <td>Jason Patric</td>\n",
       "      <td>Speed 2: Cruise Control</td>\n",
       "      <td>English</td>\n",
       "      <td>USA</td>\n",
       "      <td>160000000.0</td>\n",
       "      <td>1997</td>\n",
       "      <td>3.7</td>\n",
       "    </tr>\n",
       "  </tbody>\n",
       "</table>\n",
       "</div>"
      ],
      "text/plain": [
       "     color    director_name  duration  movie_income      star_name  \\\n",
       "217  Color  Joel Schumacher     125.0   107285004.0  Michael Gough   \n",
       "267  Color      Jan de Bont     121.0    48068396.0   Jason Patric   \n",
       "\n",
       "                 movie_title Language country  movie_budget  title_year  \\\n",
       "217           Batman & Robin  English     USA   125000000.0        1997   \n",
       "267  Speed 2: Cruise Control  English     USA   160000000.0        1997   \n",
       "\n",
       "     imdb_score  \n",
       "217         3.7  \n",
       "267         3.7  "
      ]
     },
     "execution_count": 35,
     "metadata": {},
     "output_type": "execute_result"
    }
   ],
   "source": [
    "short_score = json_data[json_data['imdb_score'] < 4]\n",
    "short_score.head(2)"
   ]
  },
  {
   "cell_type": "code",
   "execution_count": 36,
   "id": "742b9cd4",
   "metadata": {},
   "outputs": [
    {
     "data": {
      "text/plain": [
       "(156, 11)"
      ]
     },
     "execution_count": 36,
     "metadata": {},
     "output_type": "execute_result"
    }
   ],
   "source": [
    "short_score.shape"
   ]
  },
  {
   "cell_type": "markdown",
   "id": "a2555046",
   "metadata": {},
   "source": [
    "Exercise: Use a histogram to visualize the distribution of movie IMdb score in that are produced in `USA`."
   ]
  },
  {
   "cell_type": "code",
   "execution_count": 37,
   "id": "71c11257",
   "metadata": {},
   "outputs": [
    {
     "data": {
      "text/plain": [
       "Text(0, 0.5, 'Count')"
      ]
     },
     "execution_count": 37,
     "metadata": {},
     "output_type": "execute_result"
    },
    {
     "data": {
      "image/png": "[encoded data removed]",
      "text/plain": [
       "<Figure size 1000x800 with 1 Axes>"
      ]
     },
     "metadata": {},
     "output_type": "display_data"
    }
   ],
   "source": [
    "dataset = json_data[json_data['country'] == 'USA']\n",
    "bar = dataset.imdb_score.hist(grid=False, figsize=(10,8), bins=25)\n",
    "bar.set_title(\"Movies scores histogram for the USA\")\n",
    "bar.set_xlabel(\"Scores\")\n",
    "bar.set_ylabel(\"Count\")"
   ]
  },
  {
   "cell_type": "markdown",
   "id": "d0fa3333",
   "metadata": {},
   "source": [
    "---\n",
    "### Let's answer to some analytical questions \n",
    "    \n",
    "Question 1 - In which year we have the `highest` and `lowest` number of movies?"
   ]
  },
  {
   "cell_type": "markdown",
   "id": "5c493909",
   "metadata": {},
   "source": [
    "Now finding out number of movies per year"
   ]
  },
  {
   "cell_type": "code",
   "execution_count": 43,
   "id": "5f3bbfc4",
   "metadata": {},
   "outputs": [
    {
     "data": {
      "text/plain": [
       "title_year\n",
       "1916    1\n",
       "1920    1\n",
       "1925    1\n",
       "dtype: int64"
      ]
     },
     "execution_count": 43,
     "metadata": {},
     "output_type": "execute_result"
    }
   ],
   "source": [
    "count_per_year = json_data.groupby('title_year').size()\n",
    "count_per_year.head(3)"
   ]
  },
  {
   "cell_type": "markdown",
   "id": "e1dbb7a4",
   "metadata": {},
   "source": [
    "Let's create a line chart to show the result"
   ]
  },
  {
   "cell_type": "code",
   "execution_count": 47,
   "id": "37de30cd",
   "metadata": {},
   "outputs": [
    {
     "data": {
      "text/plain": [
       "Text(0, 0.5, 'movies')"
      ]
     },
     "execution_count": 47,
     "metadata": {},
     "output_type": "execute_result"
    },
    {
     "data": {
      "image/png": "[encoded data removed]",
      "text/plain": [
       "<Figure size 800x600 with 1 Axes>"
      ]
     },
     "metadata": {},
     "output_type": "display_data"
    }
   ],
   "source": [
    "figure_ = count_per_year.plot(figsize=(8,6))\n",
    "figure_.set_xlabel(\"year\")\n",
    "figure_.set_ylabel('movies')"
   ]
  },
  {
   "cell_type": "markdown",
   "id": "1b126d48",
   "metadata": {},
   "source": [
    "Question 2 - In which year we have `minimum` and `maximum` average `imdb_score` ? "
   ]
  },
  {
   "cell_type": "markdown",
   "id": "e4d514ed",
   "metadata": {},
   "source": [
    "Finding average imdb score per year "
   ]
  },
  {
   "cell_type": "code",
   "execution_count": 50,
   "id": "40deadad",
   "metadata": {},
   "outputs": [
    {
     "data": {
      "text/plain": [
       "title_year\n",
       "1916    8.000000\n",
       "1920    4.800000\n",
       "1925    8.300000\n",
       "1927    8.300000\n",
       "1929    7.150000\n",
       "          ...   \n",
       "2012    6.266516\n",
       "2013    6.369620\n",
       "2014    6.228175\n",
       "2015    6.033628\n",
       "2016    6.399057\n",
       "Name: imdb_score, Length: 91, dtype: float64"
      ]
     },
     "execution_count": 50,
     "metadata": {},
     "output_type": "execute_result"
    }
   ],
   "source": [
    "avgscores = json_data.groupby('title_year')['imdb_score'].mean()\n",
    "avgscores"
   ]
  },
  {
   "cell_type": "markdown",
   "id": "910dc407",
   "metadata": {},
   "source": [
    "Let's Use a barchart to visualize the result"
   ]
  },
  {
   "cell_type": "code",
   "execution_count": 54,
   "id": "6460f189",
   "metadata": {},
   "outputs": [
    {
     "data": {
      "text/plain": [
       "Text(0, 0.5, 'avg score')"
      ]
     },
     "execution_count": 54,
     "metadata": {},
     "output_type": "execute_result"
    },
    {
     "data": {
      "image/png": "[encoded data removed]",
      "text/plain": [
       "<Figure size 1800x800 with 1 Axes>"
      ]
     },
     "metadata": {},
     "output_type": "display_data"
    }
   ],
   "source": [
    "ax = avgscores.plot.bar(figsize=(18,8), title=\"Average Imdb score per year\")\n",
    "ax.set_ylabel('avg score')"
   ]
  },
  {
   "cell_type": "markdown",
   "id": "81b18097",
   "metadata": {},
   "source": [
    "Exercise: \n",
    "Question 3 - In which year we have the `minimum` and `maximum` spent movie budget?\n",
    "\n",
    "`hint: use a line chart to visualize your results.` "
   ]
  },
  {
   "cell_type": "code",
   "execution_count": 68,
   "id": "e2fe2f8c",
   "metadata": {},
   "outputs": [
    {
     "name": "stdout",
     "output_type": "stream",
     "text": [
      "Maximum spent: 2006\n",
      "Minimum spent: 1920\n"
     ]
    },
    {
     "data": {
      "text/plain": [
       "<Axes: xlabel='title_year'>"
      ]
     },
     "execution_count": 68,
     "metadata": {},
     "output_type": "execute_result"
    },
    {
     "data": {
      "image/png": "[encoded data removed]",
      "text/plain": [
       "<Figure size 640x480 with 1 Axes>"
      ]
     },
     "metadata": {},
     "output_type": "display_data"
    }
   ],
   "source": [
    "print(\"Maximum spent:\", json_data.groupby('title_year')['movie_budget'].sum().idxmax())\n",
    "print(\"Minimum spent:\", json_data.groupby('title_year')['movie_budget'].sum().idxmin())\n",
    "json_data.groupby('title_year')['movie_budget'].sum().plot()"
   ]
  },
  {
   "cell_type": "markdown",
   "id": "3ef37072",
   "metadata": {},
   "source": [
    "Question 4 - Is there any relationship between IMdb score of a movie and the movie income?\n",
    "\n",
    "To approaches to solve this question:\n",
    "- Visual Correlation Analysis \n",
    "- Generating the Correlation Matirx"
   ]
  },
  {
   "cell_type": "code",
   "execution_count": null,
   "id": "2b6d8450",
   "metadata": {},
   "outputs": [
    {
     "data": {
      "text/html": [
       "<div>\n",
       "<style scoped>\n",
       "    .dataframe tbody tr th:only-of-type {\n",
       "        vertical-align: middle;\n",
       "    }\n",
       "\n",
       "    .dataframe tbody tr th {\n",
       "        vertical-align: top;\n",
       "    }\n",
       "\n",
       "    .dataframe thead th {\n",
       "        text-align: right;\n",
       "    }\n",
       "</style>\n",
       "<table border=\"1\" class=\"dataframe\">\n",
       "  <thead>\n",
       "    <tr style=\"text-align: right;\">\n",
       "      <th></th>\n",
       "      <th>imdb_score</th>\n",
       "      <th>movie_income</th>\n",
       "    </tr>\n",
       "  </thead>\n",
       "  <tbody>\n",
       "    <tr>\n",
       "      <th>0</th>\n",
       "      <td>7.9</td>\n",
       "      <td>760505847.0</td>\n",
       "    </tr>\n",
       "    <tr>\n",
       "      <th>1</th>\n",
       "      <td>7.1</td>\n",
       "      <td>309404152.0</td>\n",
       "    </tr>\n",
       "    <tr>\n",
       "      <th>2</th>\n",
       "      <td>6.8</td>\n",
       "      <td>200074175.0</td>\n",
       "    </tr>\n",
       "    <tr>\n",
       "      <th>3</th>\n",
       "      <td>8.5</td>\n",
       "      <td>448130642.0</td>\n",
       "    </tr>\n",
       "    <tr>\n",
       "      <th>5</th>\n",
       "      <td>6.6</td>\n",
       "      <td>73058679.0</td>\n",
       "    </tr>\n",
       "    <tr>\n",
       "      <th>...</th>\n",
       "      <td>...</td>\n",
       "      <td>...</td>\n",
       "    </tr>\n",
       "    <tr>\n",
       "      <th>5034</th>\n",
       "      <td>6.3</td>\n",
       "      <td>70071.0</td>\n",
       "    </tr>\n",
       "    <tr>\n",
       "      <th>5035</th>\n",
       "      <td>6.9</td>\n",
       "      <td>2040920.0</td>\n",
       "    </tr>\n",
       "    <tr>\n",
       "      <th>5037</th>\n",
       "      <td>6.4</td>\n",
       "      <td>4584.0</td>\n",
       "    </tr>\n",
       "    <tr>\n",
       "      <th>5041</th>\n",
       "      <td>6.3</td>\n",
       "      <td>10443.0</td>\n",
       "    </tr>\n",
       "    <tr>\n",
       "      <th>5042</th>\n",
       "      <td>6.6</td>\n",
       "      <td>85222.0</td>\n",
       "    </tr>\n",
       "  </tbody>\n",
       "</table>\n",
       "<p>4159 rows × 2 columns</p>\n",
       "</div>"
      ],
      "text/plain": [
       "      imdb_score  movie_income\n",
       "0            7.9   760505847.0\n",
       "1            7.1   309404152.0\n",
       "2            6.8   200074175.0\n",
       "3            8.5   448130642.0\n",
       "5            6.6    73058679.0\n",
       "...          ...           ...\n",
       "5034         6.3       70071.0\n",
       "5035         6.9     2040920.0\n",
       "5037         6.4        4584.0\n",
       "5041         6.3       10443.0\n",
       "5042         6.6       85222.0\n",
       "\n",
       "[4159 rows x 2 columns]"
      ]
     },
     "execution_count": 70,
     "metadata": {},
     "output_type": "execute_result"
    }
   ],
   "source": [
    "data_q4 = json_data[['imdb_score', 'movie_income']]"
   ]
  },
  {
   "cell_type": "markdown",
   "id": "1019bced",
   "metadata": {},
   "source": [
    "Let's drop the rows with `non` values"
   ]
  },
  {
   "cell_type": "code",
   "execution_count": 74,
   "id": "fb2e5f89",
   "metadata": {},
   "outputs": [
    {
     "name": "stderr",
     "output_type": "stream",
     "text": [
      "C:\\Users\\miguelestradam36\\AppData\\Local\\Temp\\ipykernel_11320\\2985372388.py:1: SettingWithCopyWarning: \n",
      "A value is trying to be set on a copy of a slice from a DataFrame\n",
      "\n",
      "See the caveats in the documentation: https://pandas.pydata.org/pandas-docs/stable/user_guide/indexing.html#returning-a-view-versus-a-copy\n",
      "  data_q4.dropna(inplace=True)\n"
     ]
    }
   ],
   "source": [
    "data_q4.dropna(inplace=True)"
   ]
  },
  {
   "cell_type": "markdown",
   "id": "30a708c3",
   "metadata": {},
   "source": [
    "Let's generate the correlation matrix"
   ]
  },
  {
   "cell_type": "code",
   "execution_count": 79,
   "id": "a87a4b8e",
   "metadata": {},
   "outputs": [
    {
     "data": {
      "text/html": [
       "<div>\n",
       "<style scoped>\n",
       "    .dataframe tbody tr th:only-of-type {\n",
       "        vertical-align: middle;\n",
       "    }\n",
       "\n",
       "    .dataframe tbody tr th {\n",
       "        vertical-align: top;\n",
       "    }\n",
       "\n",
       "    .dataframe thead th {\n",
       "        text-align: right;\n",
       "    }\n",
       "</style>\n",
       "<table border=\"1\" class=\"dataframe\">\n",
       "  <thead>\n",
       "    <tr style=\"text-align: right;\">\n",
       "      <th></th>\n",
       "      <th>imdb_score</th>\n",
       "      <th>movie_income</th>\n",
       "    </tr>\n",
       "  </thead>\n",
       "  <tbody>\n",
       "    <tr>\n",
       "      <th>imdb_score</th>\n",
       "      <td>1.000000</td>\n",
       "      <td>0.198021</td>\n",
       "    </tr>\n",
       "    <tr>\n",
       "      <th>movie_income</th>\n",
       "      <td>0.198021</td>\n",
       "      <td>1.000000</td>\n",
       "    </tr>\n",
       "  </tbody>\n",
       "</table>\n",
       "</div>"
      ],
      "text/plain": [
       "              imdb_score  movie_income\n",
       "imdb_score      1.000000      0.198021\n",
       "movie_income    0.198021      1.000000"
      ]
     },
     "execution_count": 79,
     "metadata": {},
     "output_type": "execute_result"
    }
   ],
   "source": [
    "data_q4.corr()"
   ]
  }
 ],
 "metadata": {
  "kernelspec": {
   "display_name": "Python 3",
   "language": "python",
   "name": "python3"
  },
  "language_info": {
   "codemirror_mode": {
    "name": "ipython",
    "version": 3
   },
   "file_extension": ".py",
   "mimetype": "text/x-python",
   "name": "python",
   "nbconvert_exporter": "python",
   "pygments_lexer": "ipython3",
   "version": "3.12.10"
  }
 },
 "nbformat": 4,
 "nbformat_minor": 5
}
